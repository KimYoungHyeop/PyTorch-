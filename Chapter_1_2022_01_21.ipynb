{
  "nbformat": 4,
  "nbformat_minor": 0,
  "metadata": {
    "colab": {
      "name": "Chapter_1_2022_01_21",
      "provenance": [],
      "collapsed_sections": [],
      "authorship_tag": "ABX9TyMoefn9tDbpE24cudyb0tGT"
    },
    "kernelspec": {
      "name": "python3",
      "display_name": "Python 3"
    },
    "language_info": {
      "name": "python"
    }
  },
  "cells": [
    {
      "cell_type": "markdown",
      "metadata": {
        "collapsed": true,
        "id": "URJ6NyFCDfFW"
      },
      "source": [
        "### 연습문제\n"
      ]
    },
    {
      "cell_type": "markdown",
      "metadata": {
        "collapsed": true,
        "id": "17L_DP8PDfFZ"
      },
      "source": [
        "#### 문제 1\n",
        "\n",
        "2D 텐서를 만들고 차원 0 위치에 크기가 1인 차원을 추가하세요."
      ]
    },
    {
      "cell_type": "code",
      "execution_count": null,
      "metadata": {
        "colab": {
          "base_uri": "https://localhost:8080/"
        },
        "id": "3gNzlitpDfFZ",
        "outputId": "985ebce8-01d8-45c5-a05f-ab512dfa9967"
      },
      "outputs": [
        {
          "name": "stdout",
          "output_type": "stream",
          "text": [
            "tensor([[[0.5311, 0.6449, 0.7224],\n",
            "         [0.4416, 0.3634, 0.8818],\n",
            "         [0.9874, 0.7316, 0.2814]]])\n",
            "torch.Size([1, 3, 3])\n"
          ]
        }
      ],
      "source": [
        "a = torch.rand(3,3)\n",
        "a = a.unsqueeze(0)\n",
        "print(a)\n",
        "print(a.shape)"
      ]
    },
    {
      "cell_type": "markdown",
      "metadata": {
        "collapsed": true,
        "id": "uFLEd3XqDfFZ"
      },
      "source": [
        "#### 문제 2 \n",
        "\n",
        "이전 텐서에 추가한 차원을 삭제하세요."
      ]
    },
    {
      "cell_type": "code",
      "execution_count": null,
      "metadata": {
        "colab": {
          "base_uri": "https://localhost:8080/"
        },
        "id": "WXC1yxW9DfFa",
        "outputId": "110f3df0-52ee-40d9-810e-73a9f7ccf7f1"
      },
      "outputs": [
        {
          "name": "stdout",
          "output_type": "stream",
          "text": [
            "torch.Size([3, 3])\n"
          ]
        }
      ],
      "source": [
        "a = a.squeeze(0)\n",
        "print(a.shape)"
      ]
    },
    {
      "cell_type": "markdown",
      "metadata": {
        "collapsed": true,
        "id": "eceWLyK4DfFa"
      },
      "source": [
        "#### 문제\u001f 3\n",
        "\n",
        "[3, 7) 범위를 갖는 5x3 크기의 랜덤한 텐서를 만드세요."
      ]
    },
    {
      "cell_type": "code",
      "execution_count": null,
      "metadata": {
        "colab": {
          "base_uri": "https://localhost:8080/"
        },
        "id": "0NZvT53-DfFa",
        "outputId": "16a24c77-dfa4-433a-b284-6cdd09af0a70"
      },
      "outputs": [
        {
          "data": {
            "text/plain": [
              "tensor([[3.2603, 3.0260, 5.0138],\n",
              "        [4.2326, 4.4967, 4.7188],\n",
              "        [6.8914, 6.8958, 4.8130],\n",
              "        [4.3994, 5.9713, 4.8404],\n",
              "        [3.0970, 5.6519, 6.9147]])"
            ]
          },
          "execution_count": 71,
          "metadata": {},
          "output_type": "execute_result"
        }
      ],
      "source": [
        "3 + torch.rand(5, 3) * 4"
      ]
    },
    {
      "cell_type": "markdown",
      "metadata": {
        "collapsed": true,
        "id": "-ayfXG3lDfFa"
      },
      "source": [
        "#### 문제 4\n",
        "\n",
        "정규 분포(평균=0, 표준편차=1)를 사용해 텐서를 만드세요."
      ]
    },
    {
      "cell_type": "code",
      "execution_count": null,
      "metadata": {
        "colab": {
          "base_uri": "https://localhost:8080/"
        },
        "id": "f_n4FOwsDfFa",
        "outputId": "617eefe6-4059-4240-f3f8-2c8fd99893c5"
      },
      "outputs": [
        {
          "data": {
            "text/plain": [
              "tensor([[ 0.5548, -0.0845,  0.5903],\n",
              "        [-1.0032, -1.7873,  0.0538],\n",
              "        [ 0.8246, -0.5723, -0.4876]])"
            ]
          },
          "execution_count": 72,
          "metadata": {},
          "output_type": "execute_result"
        }
      ],
      "source": [
        "a = torch.rand(3,3)\n",
        "a.normal_(mean=0, std=1)"
      ]
    },
    {
      "cell_type": "markdown",
      "metadata": {
        "id": "pKh6WkmFDfFa"
      },
      "source": [
        "#### 문제 5\n",
        "\n",
        "텐서 `torch.Tensor([1, 1, 1, 0, 1])`에서 0이 아닌 원소의 인덱스를 추출하세요."
      ]
    },
    {
      "cell_type": "code",
      "execution_count": null,
      "metadata": {
        "colab": {
          "base_uri": "https://localhost:8080/"
        },
        "id": "2x7PHZjQDfFb",
        "outputId": "c61a24e0-3576-429f-cc30-6bf561ab4656"
      },
      "outputs": [
        {
          "data": {
            "text/plain": [
              "tensor([[0],\n",
              "        [1],\n",
              "        [2],\n",
              "        [4]])"
            ]
          },
          "execution_count": 73,
          "metadata": {},
          "output_type": "execute_result"
        }
      ],
      "source": [
        "a = torch.Tensor([1, 1, 1, 0, 1])\n",
        "torch.nonzero(a)"
      ]
    },
    {
      "cell_type": "markdown",
      "metadata": {
        "id": "DULGCmmWDfFb"
      },
      "source": [
        "#### 문제 6\n",
        "\n",
        "(3,1) 크기가 인 랜덤한 텐서를 만들고 네 벌을 복사해 쌓으세요."
      ]
    },
    {
      "cell_type": "code",
      "execution_count": null,
      "metadata": {
        "colab": {
          "base_uri": "https://localhost:8080/"
        },
        "id": "jSshFjdlDfFb",
        "outputId": "dcdcd056-3b75-4e59-e5eb-22839ccceafd"
      },
      "outputs": [
        {
          "data": {
            "text/plain": [
              "tensor([[0.6889, 0.6889, 0.6889, 0.6889],\n",
              "        [0.8389, 0.8389, 0.8389, 0.8389],\n",
              "        [0.1780, 0.1780, 0.1780, 0.1780]])"
            ]
          },
          "execution_count": 74,
          "metadata": {},
          "output_type": "execute_result"
        }
      ],
      "source": [
        "a = torch.rand(3,1)\n",
        "a.expand(3,4)"
      ]
    },
    {
      "cell_type": "markdown",
      "metadata": {
        "id": "eBiu_kqMDfFb"
      },
      "source": [
        "#### 문제 7\n",
        "\n",
        "두 개의 2차원 행렬(`a=torch.rand(3,4,5)`, `b=torch.rand(3,5,4)`)의 배치 행렬 곱셈(batch matrix-matrix product)을 계산하세요."
      ]
    },
    {
      "cell_type": "code",
      "execution_count": null,
      "metadata": {
        "colab": {
          "base_uri": "https://localhost:8080/"
        },
        "id": "T78e4vYRDfFb",
        "outputId": "ceb91050-904f-44b8-8a39-1beac5c573d4"
      },
      "outputs": [
        {
          "data": {
            "text/plain": [
              "tensor([[[1.8631, 0.5816, 1.6206, 2.1847],\n",
              "         [1.4829, 0.6082, 1.3175, 1.5142],\n",
              "         [1.0181, 0.2124, 0.7511, 1.2270],\n",
              "         [1.8149, 0.4185, 1.7273, 1.9657]],\n",
              "\n",
              "        [[0.2883, 1.4538, 0.9522, 1.3637],\n",
              "         [0.6061, 0.8883, 0.5272, 1.2686],\n",
              "         [0.6755, 1.3005, 0.6378, 1.5955],\n",
              "         [0.3848, 1.5427, 1.0912, 1.3246]],\n",
              "\n",
              "        [[2.0046, 2.0660, 1.6496, 1.3565],\n",
              "         [2.0920, 2.0059, 1.7782, 1.5390],\n",
              "         [1.8414, 2.0416, 1.3245, 1.0922],\n",
              "         [1.1424, 1.4117, 0.9156, 0.6832]]])"
            ]
          },
          "execution_count": 75,
          "metadata": {},
          "output_type": "execute_result"
        }
      ],
      "source": [
        "a = torch.rand(3,4,5)\n",
        "b = torch.rand(3,5,4)\n",
        "torch.bmm(a, b)"
      ]
    },
    {
      "cell_type": "markdown",
      "metadata": {
        "collapsed": true,
        "id": "e7koPVH9DfFb"
      },
      "source": [
        "#### 문제 8\n",
        "\n",
        "3차원 행렬(`a=torch.rand(3,4,5)`)과 2차원 행렬(`b=torch.rand(5,4)`)의 배치 행렬 곱셈을 계산하세요."
      ]
    },
    {
      "cell_type": "code",
      "execution_count": null,
      "metadata": {
        "colab": {
          "base_uri": "https://localhost:8080/"
        },
        "id": "hnh8Gm4ZDfFb",
        "outputId": "768e3ddd-d2c3-4ab1-b9b1-0e66b87f5180"
      },
      "outputs": [
        {
          "data": {
            "text/plain": [
              "tensor([[[1.7605, 2.0294, 1.5650, 0.6206],\n",
              "         [1.3520, 1.8327, 1.4261, 0.8760],\n",
              "         [1.5696, 2.2761, 1.9558, 0.7985],\n",
              "         [1.2448, 1.3463, 1.1928, 0.5456]],\n",
              "\n",
              "        [[1.7564, 1.8829, 1.5684, 0.7319],\n",
              "         [1.7715, 2.0721, 1.6825, 0.7578],\n",
              "         [1.4518, 2.1728, 1.8737, 0.8913],\n",
              "         [1.3978, 1.6048, 1.3362, 0.5736]],\n",
              "\n",
              "        [[1.7872, 2.4103, 1.9224, 0.8451],\n",
              "         [1.9918, 2.5528, 1.8675, 1.0383],\n",
              "         [1.7120, 2.0994, 1.5413, 0.9485],\n",
              "         [1.4417, 1.9108, 1.5602, 0.7331]]])"
            ]
          },
          "execution_count": 76,
          "metadata": {},
          "output_type": "execute_result"
        }
      ],
      "source": [
        "a = torch.rand(3,4,5)\n",
        "b = torch.rand(5,4)\n",
        "torch.bmm(a, b.unsqueeze(0).expand(a.size(0), *b.size()))"
      ]
    }
  ]
}