{
  "nbformat": 4,
  "nbformat_minor": 0,
  "metadata": {
    "colab": {
      "name": "Chapter_1_2022_01_21",
      "provenance": [],
      "collapsed_sections": [],
      "authorship_tag": "ABX9TyM0OUetm6yr80FFC0opTw8+"
    },
    "kernelspec": {
      "name": "python3",
      "display_name": "Python 3"
    },
    "language_info": {
      "name": "python"
    }
  },
  "cells": [
    {
      "cell_type": "code",
      "source": [
        "import torch"
      ],
      "metadata": {
        "id": "ciNyYL892dPr"
      },
      "execution_count": 3,
      "outputs": []
    },
    {
      "cell_type": "markdown",
      "metadata": {
        "collapsed": true,
        "id": "URJ6NyFCDfFW"
      },
      "source": [
        "### 연습문제\n"
      ]
    },
    {
      "cell_type": "markdown",
      "metadata": {
        "collapsed": true,
        "id": "17L_DP8PDfFZ"
      },
      "source": [
        "#### 문제 1\n",
        "\n",
        "2D 텐서를 만들고 차원 0 위치에 크기가 1인 차원을 추가하세요."
      ]
    },
    {
      "cell_type": "code",
      "execution_count": 4,
      "metadata": {
        "colab": {
          "base_uri": "https://localhost:8080/"
        },
        "id": "3gNzlitpDfFZ",
        "outputId": "fb09fdd5-1603-42d6-866a-059af3fd5497"
      },
      "outputs": [
        {
          "output_type": "stream",
          "name": "stdout",
          "text": [
            "tensor([[[0.9815, 0.2410, 0.9313],\n",
            "         [0.8618, 0.7566, 0.7840],\n",
            "         [0.0465, 0.1310, 0.9364]]])\n",
            "torch.Size([1, 3, 3])\n"
          ]
        }
      ],
      "source": [
        "a = torch.rand(3,3)\n",
        "a = a.unsqueeze(0)\n",
        "print(a)\n",
        "print(a.shape)"
      ]
    },
    {
      "cell_type": "markdown",
      "metadata": {
        "collapsed": true,
        "id": "uFLEd3XqDfFZ"
      },
      "source": [
        "#### 문제 2 \n",
        "\n",
        "이전 텐서에 추가한 차원을 삭제하세요."
      ]
    },
    {
      "cell_type": "code",
      "execution_count": 5,
      "metadata": {
        "colab": {
          "base_uri": "https://localhost:8080/"
        },
        "id": "WXC1yxW9DfFa",
        "outputId": "a678b372-3855-4470-d7a5-d8372b39513c"
      },
      "outputs": [
        {
          "output_type": "stream",
          "name": "stdout",
          "text": [
            "torch.Size([3, 3])\n"
          ]
        }
      ],
      "source": [
        "a = a.squeeze(0)\n",
        "print(a.shape)"
      ]
    },
    {
      "cell_type": "markdown",
      "metadata": {
        "collapsed": true,
        "id": "eceWLyK4DfFa"
      },
      "source": [
        "#### 문제\u001f 3\n",
        "\n",
        "[3, 7) 범위를 갖는 5x3 크기의 랜덤한 텐서를 만드세요."
      ]
    },
    {
      "cell_type": "code",
      "execution_count": 6,
      "metadata": {
        "colab": {
          "base_uri": "https://localhost:8080/"
        },
        "id": "0NZvT53-DfFa",
        "outputId": "079b9855-bc58-415a-b163-a47fed20d110"
      },
      "outputs": [
        {
          "output_type": "execute_result",
          "data": {
            "text/plain": [
              "tensor([[4.3022, 6.3183, 6.2619],\n",
              "        [5.4592, 3.7180, 4.8678],\n",
              "        [4.0875, 6.8846, 4.7043],\n",
              "        [6.1421, 4.7265, 4.9882],\n",
              "        [4.9893, 5.9891, 3.1111]])"
            ]
          },
          "metadata": {},
          "execution_count": 6
        }
      ],
      "source": [
        "3 + torch.rand(5, 3) * 4"
      ]
    },
    {
      "cell_type": "markdown",
      "metadata": {
        "collapsed": true,
        "id": "-ayfXG3lDfFa"
      },
      "source": [
        "#### 문제 4\n",
        "\n",
        "정규 분포(평균=0, 표준편차=1)를 사용해 텐서를 만드세요."
      ]
    },
    {
      "cell_type": "code",
      "execution_count": 7,
      "metadata": {
        "colab": {
          "base_uri": "https://localhost:8080/"
        },
        "id": "f_n4FOwsDfFa",
        "outputId": "319889be-b1de-4b5a-e9c6-bf630710234a"
      },
      "outputs": [
        {
          "output_type": "execute_result",
          "data": {
            "text/plain": [
              "tensor([[-0.1233, -1.2965,  0.3288],\n",
              "        [ 1.9206,  1.0155, -0.1445],\n",
              "        [ 1.8106, -1.2401,  1.1195]])"
            ]
          },
          "metadata": {},
          "execution_count": 7
        }
      ],
      "source": [
        "a = torch.rand(3,3)\n",
        "a.normal_(mean=0, std=1)"
      ]
    },
    {
      "cell_type": "markdown",
      "metadata": {
        "id": "pKh6WkmFDfFa"
      },
      "source": [
        "#### 문제 5\n",
        "\n",
        "텐서 `torch.Tensor([1, 1, 1, 0, 1])`에서 0이 아닌 원소의 인덱스를 추출하세요."
      ]
    },
    {
      "cell_type": "code",
      "execution_count": 12,
      "metadata": {
        "colab": {
          "base_uri": "https://localhost:8080/"
        },
        "id": "2x7PHZjQDfFb",
        "outputId": "5e9b6efc-c109-46d4-ccb6-51855062d883"
      },
      "outputs": [
        {
          "output_type": "execute_result",
          "data": {
            "text/plain": [
              "tensor([[0],\n",
              "        [1],\n",
              "        [2],\n",
              "        [4]])"
            ]
          },
          "metadata": {},
          "execution_count": 12
        }
      ],
      "source": [
        "a = torch.Tensor([1, 1, 1, 0, 1])\n",
        "torch.nonzero(a)"
      ]
    },
    {
      "cell_type": "markdown",
      "metadata": {
        "id": "DULGCmmWDfFb"
      },
      "source": [
        "#### 문제 6\n",
        "\n",
        "(3,1) 크기가 인 랜덤한 텐서를 만들고 네 벌을 복사해 쌓으세요."
      ]
    },
    {
      "cell_type": "code",
      "execution_count": 13,
      "metadata": {
        "colab": {
          "base_uri": "https://localhost:8080/"
        },
        "id": "jSshFjdlDfFb",
        "outputId": "73d0ae45-ee3c-49df-a01d-886853aef9e2"
      },
      "outputs": [
        {
          "output_type": "execute_result",
          "data": {
            "text/plain": [
              "tensor([[0.3029, 0.3029, 0.3029, 0.3029],\n",
              "        [0.9929, 0.9929, 0.9929, 0.9929],\n",
              "        [0.0456, 0.0456, 0.0456, 0.0456]])"
            ]
          },
          "metadata": {},
          "execution_count": 13
        }
      ],
      "source": [
        "a = torch.rand(3,1)\n",
        "a.expand(3,4)"
      ]
    },
    {
      "cell_type": "markdown",
      "metadata": {
        "id": "eBiu_kqMDfFb"
      },
      "source": [
        "#### 문제 7\n",
        "\n",
        "두 개의 2차원 행렬(`a=torch.rand(3,4,5)`, `b=torch.rand(3,5,4)`)의 배치 행렬 곱셈(batch matrix-matrix product)을 계산하세요."
      ]
    },
    {
      "cell_type": "code",
      "execution_count": 14,
      "metadata": {
        "colab": {
          "base_uri": "https://localhost:8080/"
        },
        "id": "T78e4vYRDfFb",
        "outputId": "4ea071eb-7c2b-42a2-88b4-91eb955ed53a"
      },
      "outputs": [
        {
          "output_type": "execute_result",
          "data": {
            "text/plain": [
              "tensor([[[1.3284, 0.9954, 1.4598, 1.3857],\n",
              "         [0.4954, 1.1153, 0.6763, 1.6418],\n",
              "         [1.1208, 0.8512, 0.9887, 1.4874],\n",
              "         [1.1533, 1.2554, 1.2809, 1.8967]],\n",
              "\n",
              "        [[1.2472, 0.9899, 1.5995, 1.1768],\n",
              "         [1.4145, 0.7561, 1.5410, 1.3459],\n",
              "         [1.3702, 1.1845, 2.2352, 1.1510],\n",
              "         [1.4689, 1.0288, 2.0256, 1.1828]],\n",
              "\n",
              "        [[0.8299, 0.5774, 0.4123, 1.1998],\n",
              "         [1.1851, 0.7824, 0.8384, 1.0561],\n",
              "         [0.5806, 0.4624, 0.6944, 0.7372],\n",
              "         [0.9389, 0.6924, 1.1813, 1.0082]]])"
            ]
          },
          "metadata": {},
          "execution_count": 14
        }
      ],
      "source": [
        "a = torch.rand(3,4,5)\n",
        "b = torch.rand(3,5,4)\n",
        "torch.bmm(a, b)"
      ]
    },
    {
      "cell_type": "markdown",
      "metadata": {
        "collapsed": true,
        "id": "e7koPVH9DfFb"
      },
      "source": [
        "#### 문제 8\n",
        "\n",
        "3차원 행렬(`a=torch.rand(3,4,5)`)과 2차원 행렬(`b=torch.rand(5,4)`)의 배치 행렬 곱셈을 계산하세요."
      ]
    },
    {
      "cell_type": "code",
      "execution_count": 15,
      "metadata": {
        "colab": {
          "base_uri": "https://localhost:8080/"
        },
        "id": "hnh8Gm4ZDfFb",
        "outputId": "b8e73142-cf84-47bf-facf-d54dff6c60da"
      },
      "outputs": [
        {
          "output_type": "execute_result",
          "data": {
            "text/plain": [
              "tensor([[[1.1506, 1.8988, 1.6642, 1.2088],\n",
              "         [1.4888, 1.9166, 1.6845, 1.3777],\n",
              "         [1.5287, 1.8621, 1.4410, 1.0866],\n",
              "         [1.7266, 2.2409, 1.8065, 1.3117]],\n",
              "\n",
              "        [[1.0590, 1.1663, 0.9001, 0.7779],\n",
              "         [0.7712, 1.3441, 1.1405, 0.7344],\n",
              "         [1.3131, 2.2432, 1.6170, 0.9948],\n",
              "         [1.3534, 1.8553, 1.6843, 1.3382]],\n",
              "\n",
              "        [[1.2576, 1.9003, 1.6082, 1.1608],\n",
              "         [1.2639, 2.2156, 1.6445, 1.0445],\n",
              "         [0.8484, 1.8897, 1.4308, 0.8659],\n",
              "         [0.5639, 0.8376, 0.6702, 0.5688]]])"
            ]
          },
          "metadata": {},
          "execution_count": 15
        }
      ],
      "source": [
        "a = torch.rand(3,4,5)\n",
        "b = torch.rand(5,4)\n",
        "torch.bmm(a, b.unsqueeze(0).expand(a.size(0), *b.size()))"
      ]
    }
  ]
}