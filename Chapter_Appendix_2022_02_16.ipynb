{
  "nbformat": 4,
  "nbformat_minor": 0,
  "metadata": {
    "colab": {
      "name": "Chapter_Appendix_2022_02_16.ipynb",
      "provenance": [],
      "collapsed_sections": [],
      "authorship_tag": "ABX9TyPtzyFGM9RPeuz1if1jnslX"
    },
    "kernelspec": {
      "name": "python3",
      "display_name": "Python 3"
    },
    "language_info": {
      "name": "python"
    }
  },
  "cells": [
    {
      "cell_type": "markdown",
      "source": [
        "# pororo를 사용한 한글 자연어 처리"
      ],
      "metadata": {
        "id": "D3To_6Ln_zLC"
      }
    },
    {
      "cell_type": "markdown",
      "source": [
        "2021년 초에 카카오브레인([https://www.kakaobrain.com/](https://www.kakaobrain.com/))에서 다양한 한글 자연어 처리 작업을 위한 `pororo`('뽀로로'라고 읽습니다)([https://github.com/kakaobrain/pororo](https://github.com/kakaobrain/pororo)) 파이썬 라이브러리를 릴리스했습니다. `pororo` 라이브러리는 BERT, Transformer 등 파이토치로 구현된 최신 NLP 모델을 사용해 30여 가지의 자연어 처리 작업을 수행합니다. 여기에서는 이 중에 대표적인 몇 가지 작업에 대해서 알아 보겠습니다. `pororo` 라이브러리가 수행할 수 있는 전체 작업 목록은 온라인 문서([https://kakaobrain.github.io/pororo/index.html](https://kakaobrain.github.io/pororo/index.html))를 참고하세요.\n",
        "\n",
        "`pororo`라이브러리는 `pip` 명령으로 간단히 설치할 수 있습니다. 현재는 파이썬 3.6 버전 이상과 파이토치 1.6 버전(CUDA 10.1)을 지원합니다."
      ],
      "metadata": {
        "id": "UMdLbXeQ_zNf"
      }
    },
    {
      "cell_type": "code",
      "source": [
        "!pip install pororo"
      ],
      "metadata": {
        "colab": {
          "base_uri": "https://localhost:8080/"
        },
        "id": "O34swZyrAG4I",
        "outputId": "37f683c7-23f2-4fe5-dab5-f5105b452de0"
      },
      "execution_count": 5,
      "outputs": [
        {
          "output_type": "stream",
          "name": "stdout",
          "text": [
            "Requirement already satisfied: pororo in /usr/local/lib/python3.7/dist-packages (0.4.2)\n",
            "Requirement already satisfied: fairseq>=0.10.2 in /usr/local/lib/python3.7/dist-packages (from pororo) (0.10.2)\n",
            "Requirement already satisfied: kss in /usr/local/lib/python3.7/dist-packages (from pororo) (3.4)\n",
            "Requirement already satisfied: pillow>=4.1.1 in /usr/local/lib/python3.7/dist-packages (from pororo) (7.1.2)\n",
            "Requirement already satisfied: joblib in /usr/local/lib/python3.7/dist-packages (from pororo) (1.1.0)\n",
            "Requirement already satisfied: lxml in /usr/local/lib/python3.7/dist-packages (from pororo) (4.2.6)\n",
            "Requirement already satisfied: whoosh in /usr/local/lib/python3.7/dist-packages (from pororo) (2.7.4)\n",
            "Requirement already satisfied: g2p-en in /usr/local/lib/python3.7/dist-packages (from pororo) (2.1.0)\n",
            "Requirement already satisfied: nltk>=3.5 in /usr/local/lib/python3.7/dist-packages (from pororo) (3.7)\n",
            "Requirement already satisfied: word2word in /usr/local/lib/python3.7/dist-packages (from pororo) (1.0.0)\n",
            "Requirement already satisfied: transformers>=4.0.0 in /usr/local/lib/python3.7/dist-packages (from pororo) (4.16.2)\n",
            "Requirement already satisfied: torchvision==0.7.0 in /usr/local/lib/python3.7/dist-packages (from pororo) (0.7.0)\n",
            "Requirement already satisfied: marisa-trie in /usr/local/lib/python3.7/dist-packages (from pororo) (0.7.7)\n",
            "Requirement already satisfied: torch==1.6.0 in /usr/local/lib/python3.7/dist-packages (from pororo) (1.6.0)\n",
            "Requirement already satisfied: wget in /usr/local/lib/python3.7/dist-packages (from pororo) (3.2)\n",
            "Requirement already satisfied: sentence-transformers>=0.4.1.2 in /usr/local/lib/python3.7/dist-packages (from pororo) (2.2.0)\n",
            "Requirement already satisfied: future in /usr/local/lib/python3.7/dist-packages (from torch==1.6.0->pororo) (0.16.0)\n",
            "Requirement already satisfied: numpy in /usr/local/lib/python3.7/dist-packages (from torch==1.6.0->pororo) (1.21.5)\n",
            "Requirement already satisfied: hydra-core in /usr/local/lib/python3.7/dist-packages (from fairseq>=0.10.2->pororo) (1.1.1)\n",
            "Requirement already satisfied: sacrebleu>=1.4.12 in /usr/local/lib/python3.7/dist-packages (from fairseq>=0.10.2->pororo) (2.0.0)\n",
            "Requirement already satisfied: tqdm in /usr/local/lib/python3.7/dist-packages (from fairseq>=0.10.2->pororo) (4.62.3)\n",
            "Requirement already satisfied: regex in /usr/local/lib/python3.7/dist-packages (from fairseq>=0.10.2->pororo) (2022.1.18)\n",
            "Requirement already satisfied: cffi in /usr/local/lib/python3.7/dist-packages (from fairseq>=0.10.2->pororo) (1.15.0)\n",
            "Requirement already satisfied: dataclasses in /usr/local/lib/python3.7/dist-packages (from fairseq>=0.10.2->pororo) (0.6)\n",
            "Requirement already satisfied: cython in /usr/local/lib/python3.7/dist-packages (from fairseq>=0.10.2->pororo) (0.29.27)\n",
            "Requirement already satisfied: click in /usr/local/lib/python3.7/dist-packages (from nltk>=3.5->pororo) (7.1.2)\n",
            "Requirement already satisfied: tabulate>=0.8.9 in /usr/local/lib/python3.7/dist-packages (from sacrebleu>=1.4.12->fairseq>=0.10.2->pororo) (0.8.9)\n",
            "Requirement already satisfied: colorama in /usr/local/lib/python3.7/dist-packages (from sacrebleu>=1.4.12->fairseq>=0.10.2->pororo) (0.4.4)\n",
            "Requirement already satisfied: portalocker in /usr/local/lib/python3.7/dist-packages (from sacrebleu>=1.4.12->fairseq>=0.10.2->pororo) (2.3.2)\n",
            "Requirement already satisfied: huggingface-hub in /usr/local/lib/python3.7/dist-packages (from sentence-transformers>=0.4.1.2->pororo) (0.4.0)\n",
            "Requirement already satisfied: scipy in /usr/local/lib/python3.7/dist-packages (from sentence-transformers>=0.4.1.2->pororo) (1.4.1)\n",
            "Requirement already satisfied: scikit-learn in /usr/local/lib/python3.7/dist-packages (from sentence-transformers>=0.4.1.2->pororo) (1.0.2)\n",
            "Requirement already satisfied: sentencepiece in /usr/local/lib/python3.7/dist-packages (from sentence-transformers>=0.4.1.2->pororo) (0.1.96)\n",
            "Requirement already satisfied: tokenizers!=0.11.3,>=0.10.1 in /usr/local/lib/python3.7/dist-packages (from transformers>=4.0.0->pororo) (0.11.5)\n",
            "Requirement already satisfied: filelock in /usr/local/lib/python3.7/dist-packages (from transformers>=4.0.0->pororo) (3.4.2)\n",
            "Requirement already satisfied: importlib-metadata in /usr/local/lib/python3.7/dist-packages (from transformers>=4.0.0->pororo) (4.11.0)\n",
            "Requirement already satisfied: requests in /usr/local/lib/python3.7/dist-packages (from transformers>=4.0.0->pororo) (2.23.0)\n",
            "Requirement already satisfied: pyyaml>=5.1 in /usr/local/lib/python3.7/dist-packages (from transformers>=4.0.0->pororo) (6.0)\n",
            "Requirement already satisfied: packaging>=20.0 in /usr/local/lib/python3.7/dist-packages (from transformers>=4.0.0->pororo) (21.3)\n",
            "Requirement already satisfied: sacremoses in /usr/local/lib/python3.7/dist-packages (from transformers>=4.0.0->pororo) (0.0.47)\n",
            "Requirement already satisfied: typing-extensions>=3.7.4.3 in /usr/local/lib/python3.7/dist-packages (from huggingface-hub->sentence-transformers>=0.4.1.2->pororo) (3.10.0.2)\n",
            "Requirement already satisfied: pyparsing!=3.0.5,>=2.0.2 in /usr/local/lib/python3.7/dist-packages (from packaging>=20.0->transformers>=4.0.0->pororo) (3.0.7)\n",
            "Requirement already satisfied: pycparser in /usr/local/lib/python3.7/dist-packages (from cffi->fairseq>=0.10.2->pororo) (2.21)\n",
            "Requirement already satisfied: inflect>=0.3.1 in /usr/local/lib/python3.7/dist-packages (from g2p-en->pororo) (2.1.0)\n",
            "Requirement already satisfied: distance>=0.1.3 in /usr/local/lib/python3.7/dist-packages (from g2p-en->pororo) (0.1.3)\n",
            "Requirement already satisfied: omegaconf==2.1.* in /usr/local/lib/python3.7/dist-packages (from hydra-core->fairseq>=0.10.2->pororo) (2.1.1)\n",
            "Requirement already satisfied: antlr4-python3-runtime==4.8 in /usr/local/lib/python3.7/dist-packages (from hydra-core->fairseq>=0.10.2->pororo) (4.8)\n",
            "Requirement already satisfied: importlib-resources in /usr/local/lib/python3.7/dist-packages (from hydra-core->fairseq>=0.10.2->pororo) (5.4.0)\n",
            "Requirement already satisfied: zipp>=0.5 in /usr/local/lib/python3.7/dist-packages (from importlib-metadata->transformers>=4.0.0->pororo) (3.7.0)\n",
            "Requirement already satisfied: emoji in /usr/local/lib/python3.7/dist-packages (from kss->pororo) (1.6.3)\n",
            "Requirement already satisfied: setuptools in /usr/local/lib/python3.7/dist-packages (from marisa-trie->pororo) (57.4.0)\n",
            "Requirement already satisfied: urllib3!=1.25.0,!=1.25.1,<1.26,>=1.21.1 in /usr/local/lib/python3.7/dist-packages (from requests->transformers>=4.0.0->pororo) (1.24.3)\n",
            "Requirement already satisfied: chardet<4,>=3.0.2 in /usr/local/lib/python3.7/dist-packages (from requests->transformers>=4.0.0->pororo) (3.0.4)\n",
            "Requirement already satisfied: idna<3,>=2.5 in /usr/local/lib/python3.7/dist-packages (from requests->transformers>=4.0.0->pororo) (2.10)\n",
            "Requirement already satisfied: certifi>=2017.4.17 in /usr/local/lib/python3.7/dist-packages (from requests->transformers>=4.0.0->pororo) (2021.10.8)\n",
            "Requirement already satisfied: six in /usr/local/lib/python3.7/dist-packages (from sacremoses->transformers>=4.0.0->pororo) (1.15.0)\n",
            "Requirement already satisfied: threadpoolctl>=2.0.0 in /usr/local/lib/python3.7/dist-packages (from scikit-learn->sentence-transformers>=0.4.1.2->pororo) (3.1.0)\n"
          ]
        }
      ]
    },
    {
      "cell_type": "markdown",
      "source": [
        "`pororo`를 사용하는 방법은 `Pororo` 클래스에 원하는 작업을 지정하여 작업에 맞는 클래스 객체를 얻는 것입니다. 전체 작업 목록은 온라인 문서에 있으며 다음과 같이 `available_tasks()` 메서드를 호출하여 얻을 수 있습니다."
      ],
      "metadata": {
        "id": "k6BNrr5E_zPz"
      }
    },
    {
      "cell_type": "code",
      "source": [
        "from pororo import Pororo\n",
        "\n",
        "Pororo.available_tasks()"
      ],
      "metadata": {
        "colab": {
          "base_uri": "https://localhost:8080/",
          "height": 143
        },
        "id": "GSPE8HEmARKf",
        "outputId": "3b68587c-901c-445b-fdcd-132b9ab259fe"
      },
      "execution_count": 6,
      "outputs": [
        {
          "output_type": "execute_result",
          "data": {
            "application/vnd.google.colaboratory.intrinsic+json": {
              "type": "string"
            },
            "text/plain": [
              "\"Available tasks are ['mrc', 'rc', 'qa', 'question_answering', 'machine_reading_comprehension', 'reading_comprehension', 'sentiment', 'sentiment_analysis', 'nli', 'natural_language_inference', 'inference', 'fill', 'fill_in_blank', 'fib', 'para', 'pi', 'cse', 'contextual_subword_embedding', 'similarity', 'sts', 'semantic_textual_similarity', 'sentence_similarity', 'sentvec', 'sentence_embedding', 'sentence_vector', 'se', 'inflection', 'morphological_inflection', 'g2p', 'grapheme_to_phoneme', 'grapheme_to_phoneme_conversion', 'w2v', 'wordvec', 'word2vec', 'word_vector', 'word_embedding', 'tokenize', 'tokenise', 'tokenization', 'tokenisation', 'tok', 'segmentation', 'seg', 'mt', 'machine_translation', 'translation', 'pos', 'tag', 'pos_tagging', 'tagging', 'const', 'constituency', 'constituency_parsing', 'cp', 'pg', 'collocation', 'collocate', 'col', 'word_translation', 'wt', 'summarization', 'summarisation', 'text_summarization', 'text_summarisation', 'summary', 'gec', 'review', 'review_scoring', 'lemmatization', 'lemmatisation', 'lemma', 'ner', 'named_entity_recognition', 'entity_recognition', 'zero-topic', 'dp', 'dep_parse', 'caption', 'captioning', 'asr', 'speech_recognition', 'st', 'speech_translation', 'tts', 'text_to_speech', 'speech_synthesis', 'ocr', 'srl', 'semantic_role_labeling', 'p2g', 'aes', 'essay', 'qg', 'question_generation', 'age_suitability', 'wsd']\""
            ]
          },
          "metadata": {},
          "execution_count": 6
        }
      ]
    },
    {
      "cell_type": "markdown",
      "source": [
        "## 광학 문자 인식\n",
        "---\n",
        "먼저 이미지에서 문자를 읽는 광학 문자 인식(Optical Character Recognition) 작업을 수행해 보겠습니다. 광학 문자 인식 작업을 수행하려면 `Pororo` 클래스에 `task='ocr'` 매개변수를 지정하여 객체를 만듭니다."
      ],
      "metadata": {
        "id": "BxZ_z1dMCD45"
      }
    },
    {
      "cell_type": "code",
      "source": [
        "ocr = Pororo(task='ocr')"
      ],
      "metadata": {
        "id": "wXeNZSShD4Vf"
      },
      "execution_count": 7,
      "outputs": []
    },
    {
      "cell_type": "markdown",
      "source": [
        "`ocr` 객체를 사용하는 방법은 간단합니다. 문자 인식을 하려는 이미지를 매개변수로 전달하면 됩니다. 다음과 같은 책 표지 이미지를 사용해 보죠."
      ],
      "metadata": {
        "id": "61AJ7yG2CJB8"
      }
    },
    {
      "cell_type": "code",
      "source": [
        "!wget https://github.com/rickiepark/nlp-with-pytorch/raw/main/ocr-test.png"
      ],
      "metadata": {
        "colab": {
          "base_uri": "https://localhost:8080/"
        },
        "id": "V8q-nPbXCA8F",
        "outputId": "3043cabc-ebf7-4cdd-cbee-b2b2cec4d991"
      },
      "execution_count": 8,
      "outputs": [
        {
          "output_type": "stream",
          "name": "stdout",
          "text": [
            "--2022-02-16 15:03:56--  https://github.com/rickiepark/nlp-with-pytorch/raw/main/ocr-test.png\n",
            "Resolving github.com (github.com)... 192.30.255.112\n",
            "Connecting to github.com (github.com)|192.30.255.112|:443... connected.\n",
            "HTTP request sent, awaiting response... 302 Found\n",
            "Location: https://raw.githubusercontent.com/rickiepark/nlp-with-pytorch/main/ocr-test.png [following]\n",
            "--2022-02-16 15:03:56--  https://raw.githubusercontent.com/rickiepark/nlp-with-pytorch/main/ocr-test.png\n",
            "Resolving raw.githubusercontent.com (raw.githubusercontent.com)... 185.199.108.133, 185.199.111.133, 185.199.109.133, ...\n",
            "Connecting to raw.githubusercontent.com (raw.githubusercontent.com)|185.199.108.133|:443... connected.\n",
            "HTTP request sent, awaiting response... 200 OK\n",
            "Length: 11615635 (11M) [application/octet-stream]\n",
            "Saving to: ‘ocr-test.png.3’\n",
            "\n",
            "\rocr-test.png.3        0%[                    ]       0  --.-KB/s               \rocr-test.png.3      100%[===================>]  11.08M  --.-KB/s    in 0.08s   \n",
            "\n",
            "2022-02-16 15:03:56 (145 MB/s) - ‘ocr-test.png.3’ saved [11615635/11615635]\n",
            "\n"
          ]
        }
      ]
    },
    {
      "cell_type": "markdown",
      "source": [
        "![](https://github.com/rickiepark/nlp-with-pytorch/raw/main/ocr-test.png)"
      ],
      "metadata": {
        "id": "-p8ZxMR5DSLd"
      }
    },
    {
      "cell_type": "code",
      "source": [
        "ocr('ocr-test.png')"
      ],
      "metadata": {
        "colab": {
          "base_uri": "https://localhost:8080/"
        },
        "id": "xa5z7ARICPhp",
        "outputId": "0203e108-ea2a-4b33-ee43-5e384354b837"
      },
      "execution_count": 9,
      "outputs": [
        {
          "output_type": "stream",
          "name": "stderr",
          "text": [
            "/usr/local/lib/python3.7/dist-packages/torch/nn/functional.py:3384: UserWarning: Default grid_sample and affine_grid behavior has changed to align_corners=False since 1.3.0. Please specify align_corners=True if the old behavior is desired. See the documentation of grid_sample for details.\n",
            "  warnings.warn(\"Default grid_sample and affine_grid behavior has changed \"\n"
          ]
        },
        {
          "output_type": "execute_result",
          "data": {
            "text/plain": [
              "['Machine Leaming with Python Cookbook 파이썬을 활용한 머신러닝 쿡북',\n",
              " '크리스 알본 지음 빅해선 옮김',\n",
              " \"Introduction to Machine Learning with Pythan 안드레아스 뮐러. 세라 가이도 지음 파이썬 라이브러리를 활용한 머신러닝 번역개정판 '해선 옮김\",\n",
              " 'Hands-On Machine Learning with Scikit-Learn, Keras & TensorFlow',\n",
              " \"핸즈온 머신러닝 '] 오렐리앙 제롱 지음 박해선 옮김\",\n",
              " 'GANS 텐서플로 2.x와 케라스로 구축하는 야쿠프 란그르, 블라디미르 보크 지음 GAN 인 액션 생성적 적대 신경망 박해선 옮김 INAGTION',\n",
              " '데이비드 포스터 지음 Generative 미술관에 GAN 딥러닝 실전 프로젝트 Deep Learning 박해선 옮김']"
            ]
          },
          "metadata": {},
          "execution_count": 9
        }
      ]
    },
    {
      "cell_type": "markdown",
      "source": [
        "<핸즈온 머신러닝>에서 세로로 쓰여진 '2판'은 인식을 못했고 <GAN 인 액션>과 <미술관에 GAN 딥러닝>은 행을 조금 혼동하고 있지만 전반적으로 높은 인식율을 보여주고 있습니다.\n",
        "\n",
        "광학 문자 인식 작업에 지원하는 언어는 영어와 한국어입니다. 지원하는 언어 목록을 보려면 `pororo` 패키지의 온라인 문서를 참고하세요. 현재는 `Pororo` 클래스에서 가능한 언어를 직접 확인할 수는 없습니다. 다만 다음처럼 `SUPPORTED_TASKS` 딕셔너리에 매핑된 광학 문자 인식 클래스의 `get_available_langs()` 정적 메서드를 호출하여 확인할 수 있습니다."
      ],
      "metadata": {
        "id": "Wry8tLlx_zZs"
      }
    },
    {
      "cell_type": "code",
      "source": [
        "from pororo.pororo import SUPPORTED_TASKS\n",
        "\n",
        "SUPPORTED_TASKS['ocr'].get_available_langs()"
      ],
      "metadata": {
        "colab": {
          "base_uri": "https://localhost:8080/"
        },
        "id": "dBU-FEIlCXcW",
        "outputId": "24f9794c-1deb-4bd8-c685-6f2d7fc3dffe"
      },
      "execution_count": 10,
      "outputs": [
        {
          "output_type": "execute_result",
          "data": {
            "text/plain": [
              "['en', 'ko']"
            ]
          },
          "metadata": {},
          "execution_count": 10
        }
      ]
    },
    {
      "cell_type": "markdown",
      "source": [
        "로컬에 있는 파일 뿐만 아니라 URL을 전달할 수도 있습니다. 다음과 같이 영어로 쓰여진 표지판([https://bit.ly/london-sign](https://bit.ly/london-sign), Goldflakes, CC BY-SA 4.0)을 인식해 보죠."
      ],
      "metadata": {
        "id": "8ww_pDx8CbYL"
      }
    },
    {
      "cell_type": "markdown",
      "source": [
        "![](https://bit.ly/london-sign)"
      ],
      "metadata": {
        "id": "yFqYJz_eDWAb"
      }
    },
    {
      "cell_type": "code",
      "source": [
        "ocr('https://bit.ly/london-sign', detail=True)"
      ],
      "metadata": {
        "colab": {
          "base_uri": "https://localhost:8080/"
        },
        "id": "8hjHO30iCVVZ",
        "outputId": "72ae2d86-70b9-4e94-daeb-98a75772a418"
      },
      "execution_count": 11,
      "outputs": [
        {
          "output_type": "stream",
          "name": "stdout",
          "text": [
            "\rProgress: |--------------------------------------------------| 0.0% Complete\r\rProgress: |--------------------------------------------------| 1.6% Complete\r\rProgress: |█-------------------------------------------------| 3.1% Complete\r\rProgress: |██------------------------------------------------| 4.7% Complete\r\rProgress: |███-----------------------------------------------| 6.2% Complete\r\rProgress: |███-----------------------------------------------| 7.8% Complete\r\rProgress: |████----------------------------------------------| 9.3% Complete\r\rProgress: |█████---------------------------------------------| 10.9% Complete\r\rProgress: |██████--------------------------------------------| 12.4% Complete\r\rProgress: |██████--------------------------------------------| 14.0% Complete\r\rProgress: |███████-------------------------------------------| 15.5% Complete\r\rProgress: |████████------------------------------------------| 17.1% Complete\r\rProgress: |█████████-----------------------------------------| 18.6% Complete\r\rProgress: |██████████----------------------------------------| 20.2% Complete\r\rProgress: |██████████----------------------------------------| 21.7% Complete\r\rProgress: |███████████---------------------------------------| 23.3% Complete\r\rProgress: |████████████--------------------------------------| 24.9% Complete\r\rProgress: |█████████████-------------------------------------| 26.4% Complete\r\rProgress: |█████████████-------------------------------------| 28.0% Complete\r\rProgress: |██████████████------------------------------------| 29.5% Complete\r\rProgress: |███████████████-----------------------------------| 31.1% Complete\r\rProgress: |████████████████----------------------------------| 32.6% Complete\r\rProgress: |█████████████████---------------------------------| 34.2% Complete\r\rProgress: |█████████████████---------------------------------| 35.7% Complete\r\rProgress: |██████████████████--------------------------------| 37.3% Complete\r\rProgress: |███████████████████-------------------------------| 38.8% Complete\r\rProgress: |████████████████████------------------------------| 40.4% Complete\r\rProgress: |████████████████████------------------------------| 41.9% Complete\r\rProgress: |█████████████████████-----------------------------| 43.5% Complete\r\rProgress: |██████████████████████----------------------------| 45.0% Complete\r\rProgress: |███████████████████████---------------------------| 46.6% Complete\r\rProgress: |████████████████████████--------------------------| 48.2% Complete\r\rProgress: |████████████████████████--------------------------| 49.7% Complete\r\rProgress: |█████████████████████████-------------------------| 51.3% Complete\r\rProgress: |██████████████████████████------------------------| 52.8% Complete\r\rProgress: |███████████████████████████-----------------------| 54.4% Complete\r\rProgress: |███████████████████████████-----------------------| 55.9% Complete\r\rProgress: |████████████████████████████----------------------| 57.5% Complete\r\rProgress: |█████████████████████████████---------------------| 59.0% Complete\r\rProgress: |██████████████████████████████--------------------| 60.6% Complete\r\rProgress: |███████████████████████████████-------------------| 62.1% Complete\r\rProgress: |███████████████████████████████-------------------| 63.7% Complete\r\rProgress: |████████████████████████████████------------------| 65.2% Complete\r\rProgress: |█████████████████████████████████-----------------| 66.8% Complete\r\rProgress: |██████████████████████████████████----------------| 68.3% Complete\r\rProgress: |██████████████████████████████████----------------| 69.9% Complete\r\rProgress: |███████████████████████████████████---------------| 71.5% Complete\r\rProgress: |████████████████████████████████████--------------| 73.0% Complete\r\rProgress: |█████████████████████████████████████-------------| 74.6% Complete\r\rProgress: |██████████████████████████████████████------------| 76.1% Complete\r\rProgress: |██████████████████████████████████████------------| 77.7% Complete\r\rProgress: |███████████████████████████████████████-----------| 79.2% Complete\r\rProgress: |████████████████████████████████████████----------| 80.8% Complete\r\rProgress: |█████████████████████████████████████████---------| 82.3% Complete\r\rProgress: |█████████████████████████████████████████---------| 83.9% Complete\r\rProgress: |██████████████████████████████████████████--------| 85.4% Complete\r\rProgress: |███████████████████████████████████████████-------| 87.0% Complete\r\rProgress: |████████████████████████████████████████████------| 88.5% Complete\r\rProgress: |█████████████████████████████████████████████-----| 90.1% Complete\r\rProgress: |█████████████████████████████████████████████-----| 91.7% Complete\r\rProgress: |██████████████████████████████████████████████----| 93.2% Complete\r\rProgress: |███████████████████████████████████████████████---| 94.8% Complete\r\rProgress: |████████████████████████████████████████████████--| 96.3% Complete\r\rProgress: |████████████████████████████████████████████████--| 97.9% Complete\r\rProgress: |█████████████████████████████████████████████████-| 99.4% Complete\r\rProgress: |██████████████████████████████████████████████████| 101.0% Complete\r"
          ]
        },
        {
          "output_type": "stream",
          "name": "stderr",
          "text": [
            "/usr/local/lib/python3.7/dist-packages/torch/nn/functional.py:3384: UserWarning: Default grid_sample and affine_grid behavior has changed to align_corners=False since 1.3.0. Please specify align_corners=True if the old behavior is desired. See the documentation of grid_sample for details.\n",
            "  warnings.warn(\"Default grid_sample and affine_grid behavior has changed \"\n"
          ]
        },
        {
          "output_type": "execute_result",
          "data": {
            "text/plain": [
              "{'bounding_poly': [{'description': 'Central London A4 (West End) alternative route for goods vehicles',\n",
              "   'vertices': [{'x': 98, 'y': 68},\n",
              "    {'x': 330, 'y': 68},\n",
              "    {'x': 330, 'y': 182},\n",
              "    {'x': 98, 'y': 182}]},\n",
              "  {'description': '37n',\n",
              "   'vertices': [{'x': 174, 'y': 254},\n",
              "    {'x': 232, 'y': 254},\n",
              "    {'x': 232, 'y': 280},\n",
              "    {'x': 174, 'y': 280}]},\n",
              "  {'description': 'pm 6 am',\n",
              "   'vertices': [{'x': 160, 'y': 328},\n",
              "    {'x': 254, 'y': 328},\n",
              "    {'x': 254, 'y': 356},\n",
              "    {'x': 160, 'y': 356}]},\n",
              "  {'description': 'C. London (Westminster A3220 (A3212)',\n",
              "   'vertices': [{'x': 132, 'y': 380},\n",
              "    {'x': 333, 'y': 380},\n",
              "    {'x': 333, 'y': 469},\n",
              "    {'x': 132, 'y': 469}]}],\n",
              " 'description': ['Central London A4 (West End) alternative route for goods vehicles',\n",
              "  '37n',\n",
              "  'pm 6 am',\n",
              "  'C. London (Westminster A3220 (A3212)']}"
            ]
          },
          "metadata": {},
          "execution_count": 11
        }
      ]
    },
    {
      "cell_type": "markdown",
      "source": [
        "결과에서 알 수 있듯이 이미지 구역에 따라 인식한 글씨를 나누어 리스트로 반환하고 있습니다. 또한 `detail=True`로 지정하면 인식된 글자 구역의 왼쪽 위에서 시계 방향으로 4개의 사각형 모서리 좌표를 반환합니다. `pororo`의 광학 인식 문자에 사용되는 OCR 모델은 내부 데이터와 AI hub의 한국어 글자체 이미지 AI 데이터([https://www.aihub.or.kr/aidata/133](https://www.aihub.or.kr/aidata/133))을 사용하여 훈련되었습니다."
      ],
      "metadata": {
        "id": "KcX7IPaICiY4"
      }
    },
    {
      "cell_type": "code",
      "source": [
        ""
      ],
      "metadata": {
        "id": "RIwOoRf3CVXd"
      },
      "execution_count": 11,
      "outputs": []
    }
  ]
}